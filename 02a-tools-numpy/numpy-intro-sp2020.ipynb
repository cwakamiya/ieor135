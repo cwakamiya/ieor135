{
 "cells": [
  {
   "cell_type": "markdown",
   "metadata": {},
   "source": [
    "![data-x](https://raw.githubusercontent.com/afo/data-x-plaksha/master/imgsource/dx_logo.png)\n",
    "\n",
    "---\n",
    "# Data-X: Introduction to Numpy\n",
    "\n",
    "**Author:** Alexander Fred Ojala, Ikhlaq Sidhu, Lillian Dong\n",
    "\n",
    "**License Agreement:** Feel free to do whatever you want with this code\n",
    "\n",
    "___"
   ]
  },
  {
   "cell_type": "markdown",
   "metadata": {},
   "source": [
    "# What is NumPy:  \n",
    "\n",
    "NumPy stands for **Numerical Python** and it is the fundamental package for scientific computing in Python. It is a package that lets you efficiently store and manipulate numerical arrays. It contains among other things:\n",
    "\n",
    "* a powerful N-dimensional array object\n",
    "* sophisticated (broadcasting) functions\n",
    "* tools for integrating C/C++ and Fortran code\n",
    "* useful linear algebra, Fourier transform, and random number capabilities\n"
   ]
  },
  {
   "cell_type": "markdown",
   "metadata": {},
   "source": [
    "# NumPy contains an array object that is \"fast\"\n",
    "\n",
    "\n",
    "<img src=\"https://github.com/ikhlaqsidhu/data-x/raw/master/imgsource/threefundamental.png\">\n",
    "\n",
    "\n",
    "**It stores / consists of**:\n",
    "* location of a memory block (allocated all at one time)\n",
    "* a shape (3 x 3 or 1 x 9, etc)\n",
    "* data type / size of each element\n",
    "\n",
    "The core feauture that NumPy supports is its multi-dimensional arrays. In NumPy, dimensions are called axes and the number of axes is called a rank."
   ]
  },
  {
   "cell_type": "code",
   "execution_count": 61,
   "metadata": {},
   "outputs": [],
   "source": [
    "# written for Python 3.6\n",
    "import numpy as np"
   ]
  },
  {
   "cell_type": "code",
   "execution_count": 62,
   "metadata": {},
   "outputs": [
    {
     "data": {
      "text/plain": [
       "'1.15.1'"
      ]
     },
     "execution_count": 62,
     "metadata": {},
     "output_type": "execute_result"
    }
   ],
   "source": [
    "np.__version__"
   ]
  },
  {
   "cell_type": "markdown",
   "metadata": {},
   "source": [
    "\n",
    "## Creating a NumPy Array: - \n",
    "### 1. Simplest possible: We use a list as an argument input in making a NumPy Array\n"
   ]
  },
  {
   "cell_type": "code",
   "execution_count": 63,
   "metadata": {},
   "outputs": [
    {
     "data": {
      "text/plain": [
       "array([1, 2, 3, 4])"
      ]
     },
     "execution_count": 63,
     "metadata": {},
     "output_type": "execute_result"
    }
   ],
   "source": [
    "# Create array from Python list\n",
    "list1 = [1, 2, 3, 4]\n",
    "data = np.array(list1)\n",
    "data"
   ]
  },
  {
   "cell_type": "code",
   "execution_count": 64,
   "metadata": {},
   "outputs": [
    {
     "data": {
      "text/plain": [
       "numpy.ndarray"
      ]
     },
     "execution_count": 64,
     "metadata": {},
     "output_type": "execute_result"
    }
   ],
   "source": [
    "# Find out object type\n",
    "type(data)"
   ]
  },
  {
   "cell_type": "code",
   "execution_count": 65,
   "metadata": {},
   "outputs": [
    {
     "data": {
      "text/plain": [
       "dtype('int32')"
      ]
     },
     "execution_count": 65,
     "metadata": {},
     "output_type": "execute_result"
    }
   ],
   "source": [
    "# See data type that is stored in the array\n",
    "data.dtype"
   ]
  },
  {
   "cell_type": "code",
   "execution_count": 66,
   "metadata": {},
   "outputs": [
    {
     "data": {
      "text/plain": [
       "array([3, 2, 3, 4])"
      ]
     },
     "execution_count": 66,
     "metadata": {},
     "output_type": "execute_result"
    }
   ],
   "source": [
    "# The data types are specified for the full array, if we store\n",
    "# a float in an int array, the float will be up-casted to an int\n",
    "data[0] = 3.14159\n",
    "data"
   ]
  },
  {
   "cell_type": "code",
   "execution_count": 67,
   "metadata": {},
   "outputs": [
    {
     "name": "stdout",
     "output_type": "stream",
     "text": [
      "[1.2 2.  3.  4. ]\n",
      "float64\n"
     ]
    }
   ],
   "source": [
    "# NumPy converts to most logical data type\n",
    "data2 = np.array([1.2, 2, 3, 4])\n",
    "print(data2)\n",
    "print(data2.dtype) # all values will be converted to floats"
   ]
  },
  {
   "cell_type": "code",
   "execution_count": 68,
   "metadata": {},
   "outputs": [
    {
     "name": "stdout",
     "output_type": "stream",
     "text": [
      "['1' '2' '3']\n",
      "<U1\n"
     ]
    }
   ],
   "source": [
    "# We can manually specify the datatype\n",
    "data3 = np.array([1, 2, 3], dtype=str)\n",
    "print(data3)\n",
    "print(data3.dtype)"
   ]
  },
  {
   "cell_type": "code",
   "execution_count": 69,
   "metadata": {},
   "outputs": [
    {
     "name": "stdout",
     "output_type": "stream",
     "text": [
      "[    0     1     2 ... 99997 99998 99999]\n",
      "\n",
      "100000\n"
     ]
    }
   ],
   "source": [
    "# lists can also be much longer\n",
    "data = np.array(range(100000))\n",
    "print(data)\n",
    "print()\n",
    "print(len(data)) # to see the length of the full array"
   ]
  },
  {
   "cell_type": "code",
   "execution_count": 70,
   "metadata": {},
   "outputs": [
    {
     "name": "stdout",
     "output_type": "stream",
     "text": [
      "[1 2 3 4 5 6 7 8 9]\n"
     ]
    }
   ],
   "source": [
    "#data = np.array(1,2,3,4, 5,6,7,8,9) # wrong\n",
    "data = np.array([1,2,3,4,5,6,7,8,9]) # right\n",
    "print(data)"
   ]
  },
  {
   "cell_type": "code",
   "execution_count": 71,
   "metadata": {},
   "outputs": [
    {
     "name": "stdout",
     "output_type": "stream",
     "text": [
      "['1' '2' 'cat' '4']\n",
      "<U11\n"
     ]
    }
   ],
   "source": [
    "# the elements of an array must be of a type that is valid to perform\n",
    "# a specific mathematical operation on\n",
    "\n",
    "data = np.array([1,2,'cat', 4])\n",
    "print(data)\n",
    "print(data.dtype)"
   ]
  },
  {
   "cell_type": "markdown",
   "metadata": {
    "collapsed": true
   },
   "source": [
    "# Question: Resolve the datatype error"
   ]
  },
  {
   "cell_type": "code",
   "execution_count": 72,
   "metadata": {},
   "outputs": [
    {
     "name": "stdout",
     "output_type": "stream",
     "text": [
      "[-3.53295527e-01  2.47998527e+00  3.37148375e+00  5.24195127e+00\n",
      "  8.18603088e+00  8.63209922e+00  1.27673366e+01  1.35807617e+01\n",
      "  1.61861397e+01  1.86783119e+01  1.86433425e+01  2.17789913e+01\n",
      "  2.28937760e+01  2.51918036e+01  2.72428824e+01  3.07535843e+01\n",
      "  3.15918911e+01  3.45449280e+01  3.88342953e+01  3.67725443e+01\n",
      "  4.04688886e+01  4.29121172e+01  4.38603296e+01  4.62061457e+01\n",
      "  4.76831825e+01  5.05699915e+01  5.28217400e+01  5.41748133e+01\n",
      "  5.81833546e+01  5.94349949e+01  6.14166747e+01  6.31978971e+01\n",
      "  6.36636556e+01  6.63027658e+01  6.99659081e+01  7.17865323e+01\n",
      "  7.39007708e+01  7.48183455e+01  7.56819630e+01  7.79795686e+01\n",
      "  8.07174318e+01  8.06562853e+01  8.37374114e+01  8.82083461e+01\n",
      "  8.86710165e+01  8.90453628e+01  9.28381432e+01  9.24395292e+01\n",
      "  9.62831803e+01  9.96602387e+01  1.01678298e+02  1.00977933e+02\n",
      "  1.04137742e+02  1.04703122e+02  1.08584868e+02  1.09543372e+02\n",
      "  1.09903499e+02  1.13132030e+02  1.14945291e+02  1.18863925e+02\n",
      "  1.20828217e+02  1.22173873e+02  1.24879364e+02  1.26967881e+02\n",
      "  1.29598362e+02  1.32276656e+02  1.33127275e+02  1.32452553e+02\n",
      "  1.35856729e+02  1.37338041e+02  1.38914557e+02  1.41640139e+02\n",
      "  1.44440995e+02  1.47006170e+02  1.48169723e+02  1.49730395e+02\n",
      "  1.52649780e+02  1.53621371e+02  1.57242229e+02  1.57505896e+02\n",
      "  1.58382224e+02  1.60925541e+02  1.64424779e+02  1.65919494e+02\n",
      "  1.66995224e+02  1.70598514e+02  1.71780480e+02  1.74101624e+02\n",
      "  1.76453931e+02  1.77762193e+02  1.78538013e+02  1.83524034e+02\n",
      "  1.83892074e+02  1.85322063e+02  1.89468612e+02  1.91483487e+02\n",
      "  1.91171681e+02  1.95280558e+02  1.96687025e+02  1.98001035e+02\n",
      "  2.00282999e+02  2.00482460e+02  2.04221045e+02  2.05213810e+02\n",
      "  2.07594151e+02  2.10821975e+02  2.12003301e+02  2.14335615e+02\n",
      "  2.15008399e+02  2.16886890e+02  2.20300380e+02  2.21172554e+02\n",
      "  2.25184748e+02  2.25896603e+02  2.26614902e+02  2.29392632e+02\n",
      "  2.31732694e+02  2.31908383e+02  2.36799966e+02  2.39844773e+02\n",
      "  2.40078423e+02  2.41169780e+02  2.43549486e+02  2.47966305e+02\n",
      "  2.49233209e+02  2.49994417e+02  2.52056757e+02  2.55619656e+02\n",
      "  2.58032407e+02  2.58873867e+02  2.58556062e+02  2.61764200e+02\n",
      "  2.64932194e+02  2.64497910e+02  2.67350667e+02  2.70211010e+02\n",
      "  2.74354525e+02  2.74536576e+02  2.76868487e+02  2.77980358e+02\n",
      "  2.79733360e+02  2.81657306e+02  2.83059049e+02  2.85466773e+02\n",
      "  2.87905674e+02  2.89753619e+02  2.93426334e+02  2.95139056e+02\n",
      "  2.95070242e+02  2.99974478e+02  2.98923520e+02  3.03106081e+02\n",
      "  3.03747747e+02  3.04434654e+02  3.07104814e+02  3.08914802e+02\n",
      "  3.10152447e+02  3.12679913e+02  3.16598705e+02  3.17049676e+02\n",
      "  3.21032414e+02  3.23992559e+02  3.24910325e+02  3.25438844e+02\n",
      "  3.27852119e+02  3.30718243e+02  3.31931532e+02  3.33243813e+02\n",
      "  3.35641235e+02  3.39126232e+02  3.39658089e+02  3.42169535e+02\n",
      "  3.44086259e+02  3.45995434e+02  3.46509548e+02  3.48813593e+02\n",
      "  3.53553902e+02  3.55630436e+02  3.57256197e+02  3.58738705e+02\n",
      "  3.61520799e+02  3.61741693e+02  3.63594657e+02  3.65664427e+02\n",
      "  3.66265415e+02  3.68979767e+02  3.73224269e+02  3.74564073e+02\n",
      "  3.76493504e+02  3.76118829e+02  3.80925150e+02  3.83430213e+02\n",
      "  3.84542640e+02  3.84730528e+02  3.87989040e+02  3.91161671e+02\n",
      "  3.92417004e+02  3.94516675e+02  3.96464035e+02  3.97314921e+02\n",
      "  3.98304020e+02  4.02292624e+02  4.06198345e+02  4.07929951e+02\n",
      "  4.08030547e+02  4.12059992e+02  4.11858996e+02  4.14935152e+02\n",
      "  4.15481118e+02  4.18190447e+02  4.19370616e+02  4.20667174e+02\n",
      "  4.21921830e+02  4.26571262e+02  4.29784843e+02  4.28636789e+02\n",
      "  4.32186735e+02  4.33017970e+02  4.36288563e+02  4.36317209e+02\n",
      "  4.38719926e+02  4.41153700e+02  4.44884850e+02  4.45773629e+02\n",
      "  4.49634012e+02  4.52470015e+02  4.52852040e+02  4.54424279e+02\n",
      "  4.56276464e+02  4.58069402e+02  4.59456910e+02  4.62588863e+02\n",
      "  4.64348239e+02  4.66101767e+02  4.68153221e+02  4.71057480e+02\n",
      "  4.72232852e+02  4.74160353e+02  4.73701756e+02  4.78330619e+02\n",
      "  4.81253472e+02  4.81554901e+02  4.83279066e+02  4.85129959e+02\n",
      "  4.87767577e+02  4.90211176e+02  4.90834391e+02  4.94698435e+02\n",
      "  4.97540102e+02  4.98176020e+02  5.00111684e+02  5.00733472e+02\n",
      "  5.04214398e+02  5.06786596e+02  5.09477341e+02  5.11135771e+02\n",
      "  5.11841719e+02  5.13858052e+02  5.16362551e+02  5.18874185e+02\n",
      "  5.21084808e+02  5.23214865e+02  5.23123747e+02  5.25198771e+02\n",
      "  5.28966817e+02  5.30174404e+02  5.32386493e+02  5.34227583e+02\n",
      "  5.36060109e+02  5.37968230e+02  5.39905824e+02  5.43809303e+02\n",
      "  5.44191109e+02  5.44072921e+02  5.47322620e+02  5.50975803e+02\n",
      "  5.51789575e+02  5.54213707e+02  5.56842972e+02  5.56201630e+02\n",
      "  5.59960964e+02  5.61347021e+02  5.63429435e+02  5.66189226e+02\n",
      "  5.67383190e+02  5.69051042e+02  5.74186619e+02  5.72315989e+02\n",
      "  5.75562846e+02  5.79050846e+02  5.79053548e+02  5.81813887e+02\n",
      "  5.83991661e+02  5.87509782e+02  5.87316607e+02  5.88079479e+02\n",
      "  5.91055682e+02  5.93181225e+02  5.96561351e+02  5.97585592e+02\n",
      "  6.01510727e+02  6.03402090e+02  6.03271413e+02  6.05756556e+02\n",
      "  6.09236038e+02  6.10543470e+02  6.11608639e+02  6.13102975e+02\n",
      "  6.16735443e+02  6.18251348e+02  6.18065570e+02  6.23660270e+02\n",
      "  6.23882490e+02  6.27029904e+02  6.28114234e+02  6.31376228e+02\n",
      "  6.31994696e+02  6.33458678e+02  6.36829240e+02  6.36756923e+02\n",
      "  6.37913792e+02  6.42805303e+02  6.44117999e+02  6.46796745e+02\n",
      "  6.49881914e+02  6.50729810e+02  6.51605063e+02  6.54756321e+02\n",
      "  6.54744698e+02  6.58860242e+02  6.59473322e+02  6.63643912e+02\n",
      "  6.64818870e+02  6.69031827e+02  6.67552094e+02  6.71676623e+02\n",
      "  6.73602276e+02  6.74730836e+02  6.77617387e+02  6.77572336e+02\n",
      "  6.78697547e+02  6.82184092e+02  6.83153218e+02  6.86878214e+02\n",
      "  6.87999308e+02  6.89102301e+02  6.92363774e+02  6.94913130e+02\n",
      "  6.95575597e+02  6.97737473e+02  7.00105089e+02  7.00855713e+02\n",
      "  7.02610263e+02  7.07237956e+02  7.08821626e+02  7.09329686e+02\n",
      "  7.09786808e+02  7.12831874e+02  7.15848441e+02  7.18343113e+02\n",
      "  7.20015446e+02  7.22755353e+02  7.25220574e+02  7.26275907e+02\n",
      "  7.27685476e+02  7.28078943e+02  7.29356275e+02  7.33946238e+02\n",
      "  7.36759946e+02  7.38653961e+02  7.41636333e+02  7.42479077e+02\n",
      "  7.43221692e+02  7.44815476e+02  7.47558204e+02  7.47989007e+02\n",
      "  7.53899474e+02  7.55173602e+02  7.56199539e+02  7.57097720e+02\n",
      "  7.58845218e+02  7.62182016e+02  7.63772069e+02  7.65162025e+02\n",
      "  7.67579222e+02  7.69900061e+02  7.71655999e+02  7.74080466e+02\n",
      "  7.77432982e+02  7.78053611e+02  7.79288782e+02  7.81812895e+02\n",
      "  7.84969624e+02  7.88228968e+02  7.87405444e+02  7.88979258e+02\n",
      "  7.92681449e+02  7.92786140e+02  7.96147105e+02  7.98550043e+02\n",
      "  8.00353982e+02  8.01624384e+02  8.04505833e+02  8.05601806e+02\n",
      "  8.10121282e+02  8.09810894e+02  8.13721390e+02  8.14008090e+02\n",
      "  8.16109371e+02  8.16895556e+02  8.19551283e+02  8.23032215e+02\n",
      "  8.23860920e+02  8.25488463e+02  8.27866359e+02  8.30473607e+02\n",
      "  8.33450594e+02  8.33891232e+02  8.36880766e+02  8.37902941e+02\n",
      "  8.40359526e+02  8.39666629e+02  8.43497333e+02  8.45610970e+02\n",
      "  8.46432688e+02  8.50522142e+02  8.50530269e+02  8.52303684e+02\n",
      "  8.58098709e+02  8.57917976e+02  8.58904326e+02  8.62865055e+02\n",
      "  8.64182404e+02  8.65983813e+02  8.65976950e+02  8.70329586e+02\n",
      "  8.70819776e+02  8.73352494e+02  8.75637214e+02  8.76962764e+02\n",
      "  8.80621510e+02  8.80164706e+02  8.83143534e+02  8.83352172e+02\n",
      "  8.88938857e+02  8.90952703e+02  8.90500835e+02  8.92819103e+02\n",
      "  8.96716480e+02  8.97216281e+02  9.01097424e+02  9.02163744e+02\n",
      "  9.02364479e+02  9.05541239e+02  9.08178920e+02  9.09000029e+02\n",
      "  9.12733291e+02  9.13075029e+02  9.16316685e+02  9.16593371e+02\n",
      "  9.20001967e+02  9.22612244e+02  9.25284417e+02  9.24192104e+02\n",
      "  9.28372735e+02  9.30025628e+02  9.32128082e+02  9.34530178e+02\n",
      "  9.35775640e+02  9.38449398e+02  9.41450959e+02  9.41850557e+02\n",
      "  9.44446243e+02  9.45580090e+02  9.46423507e+02  9.50620418e+02\n",
      "  9.51037613e+02  9.53584891e+02  9.57419211e+02  9.59175526e+02\n",
      "  9.59141658e+02  9.60981266e+02  9.63571769e+02  9.64524861e+02\n",
      "  9.67362821e+02  9.70051985e+02  9.69469697e+02  9.72400956e+02\n",
      "  9.75258416e+02  9.76459274e+02  9.80677985e+02  9.81392026e+02\n",
      "  9.82009005e+02  9.87036267e+02  9.88303329e+02  9.87744810e+02\n",
      "  9.92549499e+02  9.94166105e+02  9.95547321e+02  9.97120638e+02\n",
      "  1.00142567e+03  1.00141933e+03  1.00444806e+03  1.00544716e+03\n",
      "  1.00765679e+03  1.00980294e+03  1.01133565e+03  1.01437944e+03\n",
      "  1.01507875e+03  1.01840881e+03  1.02076684e+03  1.02183643e+03\n",
      "  1.02309595e+03  1.02708876e+03  1.02690954e+03  1.02978673e+03\n",
      "  1.03145686e+03  1.03349685e+03  1.03547110e+03  1.03926220e+03\n",
      "  1.03944266e+03  1.04234849e+03  1.04487047e+03  1.04512880e+03\n",
      "  1.04751993e+03  1.04962536e+03  1.05122447e+03  1.05345749e+03\n",
      "  1.05348163e+03  1.05878907e+03  1.05900140e+03  1.06305914e+03\n",
      "  1.06458228e+03  1.06689648e+03  1.06999078e+03  1.06966998e+03\n",
      "  1.07125933e+03  1.07306001e+03  1.07509751e+03  1.07649021e+03\n",
      "  1.07947927e+03  1.08213796e+03  1.08405375e+03  1.08774050e+03\n",
      "  1.08744306e+03  1.09100627e+03  1.09164748e+03  1.09512178e+03\n",
      "  1.09579929e+03  1.09547081e+03  1.09996283e+03  1.10068806e+03\n",
      "  1.10378289e+03  1.10612402e+03  1.10725645e+03  1.11057403e+03\n",
      "  1.11042239e+03  1.11307239e+03  1.11521623e+03  1.11883452e+03\n",
      "  1.12008614e+03  1.12136798e+03  1.12250921e+03  1.12661416e+03\n",
      "  1.12683353e+03  1.12988726e+03  1.13333764e+03  1.13349962e+03\n",
      "  1.13611795e+03  1.13830584e+03  1.14121124e+03  1.14110142e+03\n",
      "  1.14518614e+03  1.14599967e+03  1.14764486e+03  1.15004377e+03\n",
      "  1.15192385e+03  1.15463255e+03  1.15498947e+03  1.15906767e+03\n",
      "  1.16055984e+03  1.16182987e+03  1.16437951e+03  1.16601584e+03\n",
      "  1.16996257e+03  1.17013418e+03  1.17174841e+03  1.17340370e+03\n",
      "  1.17763345e+03  1.17663589e+03  1.17963029e+03  1.18214670e+03\n",
      "  1.18375514e+03  1.18623985e+03  1.18853975e+03  1.18867570e+03\n",
      "  1.19209248e+03  1.19486885e+03  1.19583213e+03  1.19864023e+03\n",
      "  1.19848651e+03  1.20234854e+03  1.20335345e+03  1.20520998e+03\n",
      "  1.20821064e+03  1.20868794e+03  1.21197730e+03  1.21345060e+03\n",
      "  1.21668623e+03  1.21917230e+03  1.22067736e+03  1.22135191e+03\n",
      "  1.22388697e+03  1.22704874e+03  1.22832208e+03  1.22996708e+03\n",
      "  1.23149697e+03  1.23330266e+03  1.23718799e+03  1.23765093e+03\n",
      "  1.23868175e+03  1.24327830e+03  1.24335035e+03  1.24693981e+03\n",
      "  1.24779859e+03  1.24985466e+03  1.25232032e+03  1.25553964e+03\n",
      "  1.25555356e+03  1.25829608e+03  1.26032417e+03  1.26170920e+03\n",
      "  1.26536658e+03  1.26630143e+03  1.26665249e+03  1.27109191e+03\n",
      "  1.26981365e+03  1.27477233e+03  1.27648787e+03  1.27828391e+03\n",
      "  1.27964323e+03  1.28347341e+03  1.28408611e+03  1.28660481e+03\n",
      "  1.28931523e+03  1.29187855e+03  1.29406016e+03  1.29364239e+03\n",
      "  1.29673058e+03  1.29660245e+03  1.29914915e+03  1.30226342e+03\n",
      "  1.30354015e+03  1.30634162e+03  1.30863308e+03  1.30949548e+03\n",
      "  1.31254168e+03  1.31323802e+03  1.31718507e+03  1.31813378e+03\n",
      "  1.32063153e+03  1.32074632e+03  1.32544340e+03  1.32615509e+03\n",
      "  1.32946030e+03  1.32948505e+03  1.33265062e+03  1.33369866e+03\n",
      "  1.33701549e+03  1.33880959e+03  1.34025563e+03  1.34255681e+03\n",
      "  1.34287993e+03  1.34410131e+03  1.34916529e+03  1.35004979e+03\n",
      "  1.35143144e+03  1.35442381e+03  1.35721014e+03  1.35560591e+03\n",
      "  1.36083619e+03  1.36032424e+03  1.36338754e+03  1.36520714e+03\n",
      "  1.36520000e+03  1.36914490e+03  1.37224307e+03  1.37579443e+03\n",
      "  1.37659214e+03  1.37899962e+03  1.37894347e+03  1.38184730e+03\n",
      "  1.38415196e+03  1.38409573e+03  1.38729266e+03  1.38987518e+03\n",
      "  1.39287101e+03  1.39457301e+03  1.39586216e+03  1.39782701e+03\n",
      "  1.40112450e+03  1.40351639e+03  1.40395022e+03  1.40529606e+03\n",
      "  1.40745599e+03  1.40937575e+03  1.41197395e+03  1.41455666e+03\n",
      "  1.41482137e+03  1.41895059e+03  1.41982845e+03  1.42197982e+03\n",
      "  1.42424704e+03  1.42379749e+03  1.42807655e+03  1.43028360e+03\n",
      "  1.43353027e+03  1.43382802e+03  1.43502755e+03  1.43680105e+03\n",
      "  1.44061193e+03  1.44112923e+03  1.44494168e+03  1.44622217e+03\n",
      "  1.44796519e+03  1.44911308e+03  1.45305053e+03  1.45359724e+03\n",
      "  1.45550446e+03  1.45699398e+03  1.46063248e+03  1.45899874e+03\n",
      "  1.46279531e+03  1.46602883e+03  1.46823985e+03  1.46930763e+03\n",
      "  1.47381835e+03  1.47467032e+03  1.47565994e+03  1.47651086e+03\n",
      "  1.48008213e+03  1.48111393e+03  1.48563486e+03  1.48740051e+03\n",
      "  1.48824293e+03  1.49161134e+03  1.49203715e+03  1.49430933e+03\n",
      "  1.49697688e+03  1.49962694e+03  1.50013980e+03  1.50246065e+03\n",
      "  1.50335642e+03  1.50748312e+03  1.50764444e+03  1.51021472e+03\n",
      "  1.51171248e+03  1.51297065e+03  1.51739640e+03  1.51732355e+03\n",
      "  1.52028733e+03  1.52140477e+03  1.52434699e+03  1.52604843e+03\n",
      "  1.52772381e+03  1.52855371e+03  1.53275872e+03  1.53624045e+03\n",
      "  1.53663649e+03  1.53788884e+03  1.53910418e+03  1.54448357e+03\n",
      "  1.54442686e+03  1.54615734e+03  1.54881438e+03  1.55069187e+03\n",
      "  1.55094663e+03  1.55247680e+03  1.55718068e+03  1.55887976e+03\n",
      "  1.56043870e+03  1.56036926e+03  1.56294152e+03  1.56556329e+03\n",
      "  1.56819803e+03  1.57067499e+03  1.57190388e+03  1.57415819e+03\n",
      "  1.57752859e+03  1.57816858e+03  1.57992003e+03  1.58247981e+03\n",
      "  1.58514681e+03  1.58648428e+03  1.58773816e+03  1.58949021e+03\n",
      "  1.59152252e+03  1.59141630e+03  1.59754544e+03  1.59754811e+03\n",
      "  1.60155295e+03  1.60245104e+03  1.60287406e+03  1.60727095e+03\n",
      "  1.60689376e+03  1.60987717e+03  1.61223638e+03  1.61386275e+03\n",
      "  1.61665732e+03  1.61897707e+03  1.61919297e+03  1.62141716e+03\n",
      "  1.62270417e+03  1.62479721e+03  1.62741921e+03  1.63121985e+03\n",
      "  1.63357029e+03  1.63381773e+03  1.63790183e+03  1.63718903e+03\n",
      "  1.64157475e+03  1.64179365e+03  1.64313014e+03  1.64429905e+03\n",
      "  1.64907361e+03  1.65168413e+03  1.65177110e+03  1.65404947e+03\n",
      "  1.65552382e+03  1.65734798e+03  1.65945786e+03  1.66209479e+03\n",
      "  1.66385560e+03  1.66666495e+03  1.66699446e+03  1.67067330e+03\n",
      "  1.67177165e+03  1.67297708e+03  1.67552718e+03  1.67702774e+03\n",
      "  1.68103082e+03  1.68167972e+03  1.68370970e+03  1.68433127e+03\n",
      "  1.68742356e+03  1.68810305e+03  1.69072814e+03  1.69343259e+03\n",
      "  1.69578191e+03  1.69763716e+03  1.70132056e+03  1.70222869e+03\n",
      "  1.70284419e+03  1.70617953e+03  1.70864030e+03  1.70924319e+03\n",
      "  1.71291829e+03  1.71383546e+03  1.71666098e+03  1.72028516e+03\n",
      "  1.72003595e+03  1.72118154e+03  1.72417387e+03  1.72389168e+03\n",
      "  1.73004515e+03  1.73106218e+03  1.73209028e+03  1.73435965e+03\n",
      "  1.73623479e+03  1.73763278e+03  1.73992124e+03  1.74136105e+03\n",
      "  1.74477516e+03  1.74575782e+03  1.74877466e+03  1.75092843e+03\n",
      "  1.75214944e+03  1.75506277e+03  1.75677651e+03  1.75885933e+03\n",
      "  1.76050714e+03  1.76110189e+03  1.76347783e+03  1.76762544e+03\n",
      "  1.76926932e+03  1.77012253e+03  1.77096980e+03  1.77317221e+03\n",
      "  1.77663653e+03  1.77700934e+03  1.77922886e+03  1.78127504e+03\n",
      "  1.78365570e+03  1.78622250e+03  1.78838723e+03  1.79064124e+03\n",
      "  1.79118510e+03  1.79376880e+03  1.79711337e+03  1.80013615e+03\n",
      "  1.80060847e+03  1.80231545e+03  1.80549739e+03  1.80742300e+03\n",
      "  1.80709142e+03  1.81127617e+03  1.81137790e+03  1.81345906e+03\n",
      "  1.81777146e+03  1.81858400e+03  1.81844673e+03  1.82060564e+03\n",
      "  1.82457733e+03  1.82676107e+03  1.82913867e+03  1.83069738e+03\n",
      "  1.83141704e+03  1.83488324e+03  1.83535275e+03  1.83972614e+03\n",
      "  1.83933409e+03  1.84006549e+03  1.84180423e+03  1.84658653e+03\n",
      "  1.84825384e+03  1.85012875e+03  1.85297074e+03  1.85598031e+03\n",
      "  1.85517963e+03  1.85901249e+03  1.86027880e+03  1.86317521e+03\n",
      "  1.86334855e+03  1.86582092e+03  1.86794429e+03  1.87105102e+03\n",
      "  1.87255051e+03  1.87247510e+03  1.87823285e+03  1.87861719e+03\n",
      "  1.87717832e+03  1.87938385e+03  1.88521913e+03  1.88668334e+03\n",
      "  1.88751205e+03  1.89045027e+03  1.89128962e+03  1.89359271e+03\n",
      "  1.89615213e+03  1.89777508e+03  1.90068375e+03  1.90196772e+03\n",
      "  1.90476857e+03  1.90566291e+03  1.90766759e+03  1.90941300e+03\n",
      "  1.91255184e+03  1.91378101e+03  1.91529871e+03  1.91746048e+03\n",
      "  1.91989164e+03  1.92392305e+03  1.92398266e+03  1.92605212e+03\n",
      "  1.92741328e+03  1.92935833e+03  1.93358860e+03  1.93628130e+03\n",
      "  1.93658559e+03  1.93696273e+03  1.94021629e+03  1.94163442e+03\n",
      "  1.94383375e+03  1.94399877e+03  1.94823475e+03  1.95055886e+03\n",
      "  1.95236167e+03  1.95508283e+03  1.95650034e+03  1.95706462e+03\n",
      "  1.96056176e+03  1.96107026e+03  1.96357051e+03  1.96781582e+03\n",
      "  1.96787056e+03  1.96964922e+03  1.97189720e+03  1.97368572e+03\n",
      "  1.97527005e+03  1.97728071e+03  1.97910602e+03  1.98170700e+03\n",
      "  1.98656231e+03  1.98583316e+03  1.98899026e+03  1.99032045e+03\n",
      "  1.99247393e+03  1.99424697e+03  1.99562709e+03  1.99908922e+03]\n"
     ]
    }
   ],
   "source": [
    "a = np.random.normal(0,1,1000)\n",
    "b = np.arange(1000, dtype=np.float_)\n",
    "c = np.arange(1000, dtype=np.float_)\n",
    "\n",
    "c += a + b\n",
    "\n",
    "print(c)"
   ]
  },
  {
   "cell_type": "markdown",
   "metadata": {},
   "source": [
    "### More info on data types can be found here:\n",
    "https://docs.scipy.org/doc/numpy-1.13.0/user/basics.types.html"
   ]
  },
  {
   "cell_type": "markdown",
   "metadata": {},
   "source": [
    "# Accessing elements: Slicing and indexing\n",
    "<img src='https://www.learntowish.com/wp-content/uploads/2017/09/string-slicing.png' style='width:600px'>"
   ]
  },
  {
   "cell_type": "code",
   "execution_count": 73,
   "metadata": {},
   "outputs": [
    {
     "name": "stdout",
     "output_type": "stream",
     "text": [
      "[0 1 2 3 4 5 6 7 8 9]\n",
      "[0 1 2]\n",
      "[3 4 5 6 7 8 9]\n"
     ]
    }
   ],
   "source": [
    "# Similar to indexing and slicing Python lists:\n",
    "data = np.array(range(10))\n",
    "print(data[:])\n",
    "print (data[0:3])\n",
    "print (data[3:])"
   ]
  },
  {
   "cell_type": "code",
   "execution_count": 74,
   "metadata": {},
   "outputs": [
    {
     "name": "stdout",
     "output_type": "stream",
     "text": [
      "[9 7 5 3 1]\n"
     ]
    }
   ],
   "source": [
    "print (data[::-2])"
   ]
  },
  {
   "cell_type": "code",
   "execution_count": 75,
   "metadata": {
    "scrolled": true
   },
   "outputs": [
    {
     "name": "stdout",
     "output_type": "stream",
     "text": [
      "x: [ 0  1  2  3  4  5  6  7  8  9 10 11 12 13 14 15 16 17]\n",
      "[ 5  7  9 11 13]\n"
     ]
    }
   ],
   "source": [
    "# more slicing\n",
    "x = np.array(range(18))\n",
    "print ('x:',x)\n",
    "print (x[5:15:2]) # [start : end : step_size]"
   ]
  },
  {
   "cell_type": "markdown",
   "metadata": {},
   "source": [
    "## Arrays are like lists, but different\n",
    "NumPy utilizes efficient pointers to a location in memory and it will store the full array. Lists on the other hand are pointers to many different objects in memory."
   ]
  },
  {
   "cell_type": "code",
   "execution_count": 76,
   "metadata": {},
   "outputs": [
    {
     "name": "stdout",
     "output_type": "stream",
     "text": [
      "[0 1 2]\n"
     ]
    }
   ],
   "source": [
    "# Slicing returns a view in Numpy, \n",
    "# and not a copy as is the case with Python lists\n",
    "data = np.array(range(10))\n",
    "view = data[0:3]\n",
    "print(view)"
   ]
  },
  {
   "cell_type": "code",
   "execution_count": 77,
   "metadata": {},
   "outputs": [
    {
     "name": "stdout",
     "output_type": "stream",
     "text": [
      "[0, 1, 2]\n"
     ]
    }
   ],
   "source": [
    "l = list(range(10))\n",
    "copy = l[0:3]\n",
    "print(copy)"
   ]
  },
  {
   "cell_type": "code",
   "execution_count": 78,
   "metadata": {},
   "outputs": [
    {
     "name": "stdout",
     "output_type": "stream",
     "text": [
      "[99, 1, 2]\n",
      "[99  1  2]\n"
     ]
    }
   ],
   "source": [
    "copy[0] = 99\n",
    "view[0] = 99\n",
    "print(copy)\n",
    "print(view)"
   ]
  },
  {
   "cell_type": "code",
   "execution_count": 79,
   "metadata": {},
   "outputs": [
    {
     "name": "stdout",
     "output_type": "stream",
     "text": [
      "Python list: [0, 1, 2, 3, 4, 5, 6, 7, 8, 9]\n",
      "NumPy array: [99  1  2  3  4  5  6  7  8  9]\n"
     ]
    }
   ],
   "source": [
    "print('Python list:',l) # has not changed\n",
    "print('NumPy array:',data) # has changed"
   ]
  },
  {
   "cell_type": "code",
   "execution_count": 80,
   "metadata": {},
   "outputs": [
    {
     "name": "stdout",
     "output_type": "stream",
     "text": [
      "Array copy [0 1 2]\n"
     ]
    }
   ],
   "source": [
    "# Creating copies of the array instead of views\n",
    "data = np.array(range(10))\n",
    "arr_copy = data[:3].copy()\n",
    "print('Array copy',arr_copy)"
   ]
  },
  {
   "cell_type": "code",
   "execution_count": 81,
   "metadata": {},
   "outputs": [
    {
     "name": "stdout",
     "output_type": "stream",
     "text": [
      "New array copy [555   1   2]\n",
      "Original array [0 1 2 3 4 5 6 7 8 9]\n"
     ]
    }
   ],
   "source": [
    "arr_copy[0] = 555\n",
    "print('New array copy',arr_copy)\n",
    "print('Original array',data) # now it is not a view any more"
   ]
  },
  {
   "cell_type": "code",
   "execution_count": 82,
   "metadata": {},
   "outputs": [
    {
     "name": "stdout",
     "output_type": "stream",
     "text": [
      "[ 0  1  2  3  4  5  6  7  8  9 10 11 12 13 14 15 16 17 18 19]\n"
     ]
    }
   ],
   "source": [
    "# same thing with assignment, its not a copy, its the same data\n",
    "x = np.array(range(20))\n",
    "print (x)\n",
    "y = x"
   ]
  },
  {
   "cell_type": "code",
   "execution_count": 83,
   "metadata": {},
   "outputs": [],
   "source": [
    "y[:] = 0"
   ]
  },
  {
   "cell_type": "code",
   "execution_count": 84,
   "metadata": {},
   "outputs": [
    {
     "name": "stdout",
     "output_type": "stream",
     "text": [
      "[0 0 0 0 0 0 0 0 0 0 0 0 0 0 0 0 0 0 0 0]\n"
     ]
    }
   ],
   "source": [
    "print (x)"
   ]
  },
  {
   "cell_type": "code",
   "execution_count": 85,
   "metadata": {},
   "outputs": [
    {
     "data": {
      "text/plain": [
       "True"
      ]
     },
     "execution_count": 85,
     "metadata": {},
     "output_type": "execute_result"
    }
   ],
   "source": [
    "x is y"
   ]
  },
  {
   "cell_type": "code",
   "execution_count": 86,
   "metadata": {},
   "outputs": [
    {
     "data": {
      "text/plain": [
       "False"
      ]
     },
     "execution_count": 86,
     "metadata": {},
     "output_type": "execute_result"
    }
   ],
   "source": [
    "x = [1,2]\n",
    "y = [1,2]\n",
    "x is y"
   ]
  },
  {
   "cell_type": "markdown",
   "metadata": {},
   "source": [
    "Question - Making train and test sets: Create two arrays from array a, one with 2/3 and the other with 1/3 of the elements. \n",
    "\n",
    "Note that you don't want to mess up your original data set when you (later) make transformations on the train / test set."
   ]
  },
  {
   "cell_type": "code",
   "execution_count": 87,
   "metadata": {},
   "outputs": [
    {
     "name": "stdout",
     "output_type": "stream",
     "text": [
      "923 923\n",
      "When b[0] changes, a[0] also changes.\n",
      "667 667\n"
     ]
    }
   ],
   "source": [
    "a = np.arange(1000)\n",
    "np.random.shuffle(a) # inplace\n",
    "\n",
    "#input answer\n",
    "\n",
    "b = a[0:667]\n",
    "c= a[667:1000]\n",
    "\n",
    "print(a[0], b[0])\n",
    "\n",
    "print('When b[0] changes, a[0] also changes.')\n",
    "b[0] = 667\n",
    "print(a[0], b[0])"
   ]
  },
  {
   "cell_type": "markdown",
   "metadata": {},
   "source": [
    "# Arrays are also a lot faster than lists"
   ]
  },
  {
   "cell_type": "code",
   "execution_count": 88,
   "metadata": {},
   "outputs": [
    {
     "name": "stdout",
     "output_type": "stream",
     "text": [
      "[0, 1, 4, 9, 16, 25, 36, 49, 64, 81]\n"
     ]
    }
   ],
   "source": [
    "# Arrays are faster and more efficient than lists\n",
    "x = list(range(100000))\n",
    "\n",
    "# Say that we want to square all elements\n",
    "y = [i**2 for i in x]\n",
    "print (y[0:10])"
   ]
  },
  {
   "cell_type": "code",
   "execution_count": 89,
   "metadata": {},
   "outputs": [
    {
     "name": "stdout",
     "output_type": "stream",
     "text": [
      "Time for Python lists:\n",
      "76.1 ms ± 4.23 ms per loop (mean ± std. dev. of 7 runs, 20 loops each)\n"
     ]
    }
   ],
   "source": [
    "# Time the operation with some IPython magic command\n",
    "print('Time for Python lists:')\n",
    "list_time = %timeit -o -n 20 [i**2 for i in x]"
   ]
  },
  {
   "cell_type": "code",
   "execution_count": 90,
   "metadata": {},
   "outputs": [
    {
     "name": "stdout",
     "output_type": "stream",
     "text": [
      "[ 0  1  4  9 16 25 36 49 64 81]\n"
     ]
    }
   ],
   "source": [
    "z = np.array(x)\n",
    "w = z**2\n",
    "print(w[:10])"
   ]
  },
  {
   "cell_type": "code",
   "execution_count": 91,
   "metadata": {},
   "outputs": [
    {
     "name": "stdout",
     "output_type": "stream",
     "text": [
      "Time for NumPy arrays:\n",
      "181 µs ± 12.3 µs per loop (mean ± std. dev. of 7 runs, 20 loops each)\n"
     ]
    }
   ],
   "source": [
    "print('Time for NumPy arrays:')\n",
    "np_time = %timeit -o -n 20 z**2"
   ]
  },
  {
   "cell_type": "code",
   "execution_count": 92,
   "metadata": {},
   "outputs": [
    {
     "name": "stdout",
     "output_type": "stream",
     "text": [
      "NumPy is 386.0 times faster than lists at squaring 100 000 elements.\n"
     ]
    }
   ],
   "source": [
    "print('NumPy is ' + str(list_time.all_runs[0]//np_time.all_runs[0]) + \\\n",
    "      ' times faster than lists at squaring 100 000 elements.')"
   ]
  },
  {
   "cell_type": "markdown",
   "metadata": {},
   "source": [
    "# Universal functions\n",
    "A function that is applied on an `ndarray` in an element-by-element fashion. Several universal functions can be found the NumPy documentation here:\n",
    "https://docs.scipy.org/doc/numpy-1.13.0/reference/ufuncs.html"
   ]
  },
  {
   "cell_type": "code",
   "execution_count": 93,
   "metadata": {},
   "outputs": [
    {
     "name": "stdout",
     "output_type": "stream",
     "text": [
      "list x =  [0, 1, 2, 3, 4]\n",
      "list y =  [5, 6, 7, 8, 9]\n"
     ]
    }
   ],
   "source": [
    "# Arrays are different than lists in another way:\n",
    "# x and y are lists\n",
    "\n",
    "x = list(range(5))\n",
    "y = list(range(5,10))\n",
    "print (\"list x = \", x)\n",
    "print (\"list y = \", y)"
   ]
  },
  {
   "cell_type": "code",
   "execution_count": 94,
   "metadata": {},
   "outputs": [
    {
     "name": "stdout",
     "output_type": "stream",
     "text": [
      "x + y =  [0, 1, 2, 3, 4, 5, 6, 7, 8, 9]\n"
     ]
    }
   ],
   "source": [
    "print (\"x + y = \", x+y)"
   ]
  },
  {
   "cell_type": "code",
   "execution_count": 95,
   "metadata": {},
   "outputs": [
    {
     "name": "stdout",
     "output_type": "stream",
     "text": [
      "np.array xn = [0 1 2 3 4]\n",
      "np.array xn = [5 6 7 8 9]\n"
     ]
    }
   ],
   "source": [
    "# now lets try with NumPy arrays:\n",
    "xn = np.array(x)\n",
    "yn = np.array(y)\n",
    "print ('np.array xn =', xn)\n",
    "print ('np.array xn =', yn)"
   ]
  },
  {
   "cell_type": "code",
   "execution_count": 96,
   "metadata": {},
   "outputs": [
    {
     "name": "stdout",
     "output_type": "stream",
     "text": [
      "xn + yn =  [ 5  7  9 11 13]\n"
     ]
    }
   ],
   "source": [
    "print (\"xn + yn = \", xn + yn)"
   ]
  },
  {
   "cell_type": "code",
   "execution_count": 97,
   "metadata": {},
   "outputs": [
    {
     "data": {
      "text/plain": [
       "array([ 5,  7,  9, 11, 13])"
      ]
     },
     "execution_count": 97,
     "metadata": {},
     "output_type": "execute_result"
    }
   ],
   "source": [
    "# + for np.arrays is a wrapper around the u. function np.add\n",
    "np.add(xn,yn)"
   ]
  },
  {
   "cell_type": "code",
   "execution_count": 98,
   "metadata": {},
   "outputs": [
    {
     "name": "stdout",
     "output_type": "stream",
     "text": [
      "[0, 1, 2, 3, 4, 0, 1, 2, 3, 4, 0, 1, 2, 3, 4]\n"
     ]
    }
   ],
   "source": [
    "# An array is a sequence that can be manipulated easily\n",
    "# An arithmetic operation is applied to each element individually\n",
    "# When two arrays are added, they must have the same size \n",
    "# (otherwise they might be broadcasted)\n",
    "\n",
    "# python lists\n",
    "print (3* x)"
   ]
  },
  {
   "cell_type": "code",
   "execution_count": 99,
   "metadata": {},
   "outputs": [
    {
     "name": "stdout",
     "output_type": "stream",
     "text": [
      "[ 0  3  6  9 12]\n"
     ]
    }
   ],
   "source": [
    "# Numpy Arrays\n",
    "print (3 * xn)"
   ]
  },
  {
   "cell_type": "markdown",
   "metadata": {},
   "source": [
    "# Join, add, concatenate"
   ]
  },
  {
   "cell_type": "code",
   "execution_count": 100,
   "metadata": {},
   "outputs": [
    {
     "name": "stdout",
     "output_type": "stream",
     "text": [
      "[0 1 2 3 4]\n",
      "[5 6 7 8 9]\n"
     ]
    }
   ],
   "source": [
    "print(xn)\n",
    "print(yn)"
   ]
  },
  {
   "cell_type": "code",
   "execution_count": 101,
   "metadata": {},
   "outputs": [
    {
     "data": {
      "text/plain": [
       "array([0, 1, 2, 3, 4, 5, 6, 7, 8, 9])"
      ]
     },
     "execution_count": 101,
     "metadata": {},
     "output_type": "execute_result"
    }
   ],
   "source": [
    "# if you need to join numpy arrays, \n",
    "# try hstack, vstack, column_stack, or concatenate\n",
    "np.hstack([xn, yn])"
   ]
  },
  {
   "cell_type": "code",
   "execution_count": 102,
   "metadata": {},
   "outputs": [
    {
     "data": {
      "text/plain": [
       "array([[0, 1, 2, 3, 4],\n",
       "       [5, 6, 7, 8, 9]])"
      ]
     },
     "execution_count": 102,
     "metadata": {},
     "output_type": "execute_result"
    }
   ],
   "source": [
    "np.vstack([xn, yn])"
   ]
  },
  {
   "cell_type": "code",
   "execution_count": 103,
   "metadata": {},
   "outputs": [
    {
     "data": {
      "text/plain": [
       "array([[0, 5],\n",
       "       [1, 6],\n",
       "       [2, 7],\n",
       "       [3, 8],\n",
       "       [4, 9]])"
      ]
     },
     "execution_count": 103,
     "metadata": {},
     "output_type": "execute_result"
    }
   ],
   "source": [
    "np.column_stack([xn, yn])"
   ]
  },
  {
   "cell_type": "code",
   "execution_count": 104,
   "metadata": {},
   "outputs": [
    {
     "data": {
      "text/plain": [
       "array([0, 1, 2, 3, 4, 5, 6, 7, 8, 9])"
      ]
     },
     "execution_count": 104,
     "metadata": {},
     "output_type": "execute_result"
    }
   ],
   "source": [
    "np.concatenate([xn, yn], axis = 0)"
   ]
  },
  {
   "cell_type": "markdown",
   "metadata": {},
   "source": [
    "### Creating arrays with 2 axis:\n"
   ]
  },
  {
   "cell_type": "code",
   "execution_count": 106,
   "metadata": {},
   "outputs": [
    {
     "data": {
      "text/plain": [
       "[[1, 2, 3], [4, 5, 6]]"
      ]
     },
     "execution_count": 106,
     "metadata": {},
     "output_type": "execute_result"
    }
   ],
   "source": [
    "# This list has two dimensions\n",
    "list3 = [[1, 2, 3],\n",
    "         [4, 5, 6]]\n",
    "list3 # nested list"
   ]
  },
  {
   "cell_type": "code",
   "execution_count": 107,
   "metadata": {},
   "outputs": [
    {
     "data": {
      "text/plain": [
       "array([[1, 2, 3],\n",
       "       [4, 5, 6]])"
      ]
     },
     "execution_count": 107,
     "metadata": {},
     "output_type": "execute_result"
    }
   ],
   "source": [
    "# data = np.array([[1, 2, 3], [4, 5, 6]])\n",
    "data = np.array(list3)\n",
    "data"
   ]
  },
  {
   "cell_type": "markdown",
   "metadata": {},
   "source": [
    "### Attributes of a multidim array"
   ]
  },
  {
   "cell_type": "code",
   "execution_count": 108,
   "metadata": {},
   "outputs": [
    {
     "name": "stdout",
     "output_type": "stream",
     "text": [
      "Dimensions: 2\n",
      "Shape: (2, 3)\n",
      "Size: 6\n"
     ]
    }
   ],
   "source": [
    "print('Dimensions:',data.ndim)\n",
    "print ('Shape:',data.shape)\n",
    "print('Size:', data.size)"
   ]
  },
  {
   "cell_type": "code",
   "execution_count": 109,
   "metadata": {},
   "outputs": [
    {
     "data": {
      "text/plain": [
       "array([[1, 4],\n",
       "       [2, 5],\n",
       "       [3, 6]])"
      ]
     },
     "execution_count": 109,
     "metadata": {},
     "output_type": "execute_result"
    }
   ],
   "source": [
    "# You can also transpose an array Matrix with either np.transpose(arr)\n",
    "# or arr.T\n",
    "data.T"
   ]
  },
  {
   "cell_type": "code",
   "execution_count": 110,
   "metadata": {},
   "outputs": [
    {
     "data": {
      "text/plain": [
       "array([[1, 4],\n",
       "       [2, 5],\n",
       "       [3, 6]])"
      ]
     },
     "execution_count": 110,
     "metadata": {},
     "output_type": "execute_result"
    }
   ],
   "source": [
    "np.transpose(data)"
   ]
  },
  {
   "cell_type": "markdown",
   "metadata": {},
   "source": [
    "# Other ways to create NumPy arrays"
   ]
  },
  {
   "cell_type": "code",
   "execution_count": 111,
   "metadata": {},
   "outputs": [
    {
     "name": "stdout",
     "output_type": "stream",
     "text": [
      "[ 0  1  2  3  4  5  6  7  8  9 10 11]\n"
     ]
    }
   ],
   "source": [
    "# np.arange() is similar to built in range()\n",
    "# Creates array with a range of consecutive numbers\n",
    "# starts at 0 and step=1 if not specified. Exclusive of stop.\n",
    "\n",
    "print(np.arange(12))"
   ]
  },
  {
   "cell_type": "code",
   "execution_count": 112,
   "metadata": {},
   "outputs": [
    {
     "name": "stdout",
     "output_type": "stream",
     "text": [
      "[10 11 12 13 14 15 16 17 18 19]\n"
     ]
    }
   ],
   "source": [
    "#Array increasing from start to end: np.arange(start, end)\n",
    "print(np.arange(10, 20))"
   ]
  },
  {
   "cell_type": "code",
   "execution_count": 53,
   "metadata": {},
   "outputs": [
    {
     "name": "stdout",
     "output_type": "stream",
     "text": [
      "[1 3 5 7 9]\n"
     ]
    }
   ],
   "source": [
    "# Array increasing from start to end by step: np.arange(start, end, step)\n",
    "# The range always includes start but excludes end\n",
    "print(np.arange(1, 10, 2))"
   ]
  },
  {
   "cell_type": "code",
   "execution_count": 54,
   "metadata": {},
   "outputs": [
    {
     "name": "stdout",
     "output_type": "stream",
     "text": [
      "[[0 0 0 0 0]\n",
      " [0 0 0 0 0]]\n"
     ]
    }
   ],
   "source": [
    "# Returns a new array of specified size, filled with zeros.\n",
    "print(np.zeros((2,5), dtype=np.int8))"
   ]
  },
  {
   "cell_type": "code",
   "execution_count": 55,
   "metadata": {},
   "outputs": [
    {
     "name": "stdout",
     "output_type": "stream",
     "text": [
      "[[1. 1.]\n",
      " [1. 1.]\n",
      " [1. 1.]\n",
      " [1. 1.]]\n"
     ]
    }
   ],
   "source": [
    "#Returns a new array of specified size, filled with ones.\n",
    "print(np.ones((4,2), dtype=np.float128))"
   ]
  },
  {
   "cell_type": "code",
   "execution_count": 56,
   "metadata": {},
   "outputs": [
    {
     "name": "stdout",
     "output_type": "stream",
     "text": [
      "[[1. 0. 0. 0. 0.]\n",
      " [0. 1. 0. 0. 0.]\n",
      " [0. 0. 1. 0. 0.]\n",
      " [0. 0. 0. 1. 0.]\n",
      " [0. 0. 0. 0. 1.]]\n"
     ]
    }
   ],
   "source": [
    "# Returns the identity matrix of specific squared size\n",
    "print(np.eye(5))"
   ]
  },
  {
   "cell_type": "markdown",
   "metadata": {},
   "source": [
    "## Some useful indexing strategies"
   ]
  },
  {
   "cell_type": "markdown",
   "metadata": {},
   "source": [
    "### There are two main types of indexing: Integer and Boolean"
   ]
  },
  {
   "cell_type": "code",
   "execution_count": 57,
   "metadata": {},
   "outputs": [
    {
     "name": "stdout",
     "output_type": "stream",
     "text": [
      "[[1 2]\n",
      " [3 4]\n",
      " [5 6]]\n"
     ]
    }
   ],
   "source": [
    "x = np.array([[1, 2], [3, 4], [5, 6]]) \n",
    "print(x)"
   ]
  },
  {
   "cell_type": "code",
   "execution_count": 58,
   "metadata": {},
   "outputs": [
    {
     "name": "stdout",
     "output_type": "stream",
     "text": [
      "3\n"
     ]
    }
   ],
   "source": [
    "## Integer indexing\n",
    "# first element is  the row, 2nd element is the column\n",
    "print(x[1,0])"
   ]
  },
  {
   "cell_type": "code",
   "execution_count": 59,
   "metadata": {},
   "outputs": [
    {
     "name": "stdout",
     "output_type": "stream",
     "text": [
      "[[3 4]\n",
      " [5 6]]\n"
     ]
    }
   ],
   "source": [
    "print(x[1:,:]) # all rows after first, all columns"
   ]
  },
  {
   "cell_type": "code",
   "execution_count": 60,
   "metadata": {},
   "outputs": [
    {
     "name": "stdout",
     "output_type": "stream",
     "text": [
      "[1 4 6]\n"
     ]
    }
   ],
   "source": [
    "# first list contains  row indices, 2nd element contains column indices\n",
    "res = x[[0,1,2], [0,1,1]]  # create index object\n",
    "print (res)"
   ]
  },
  {
   "cell_type": "code",
   "execution_count": 61,
   "metadata": {},
   "outputs": [
    {
     "name": "stdout",
     "output_type": "stream",
     "text": [
      "Comparison operator, find all values greater than 3:\n",
      "\n",
      "[[False False]\n",
      " [False  True]\n",
      " [ True  True]]\n"
     ]
    }
   ],
   "source": [
    "## Boolean indexing\n",
    "print('Comparison operator, find all values greater than 3:\\n')\n",
    "print(x>3)"
   ]
  },
  {
   "cell_type": "code",
   "execution_count": 62,
   "metadata": {},
   "outputs": [
    {
     "name": "stdout",
     "output_type": "stream",
     "text": [
      "Boolean indexing, only extract elements greater than 3:\n",
      "\n",
      "[4 5 6]\n"
     ]
    }
   ],
   "source": [
    "print('Boolean indexing, only extract elements greater than 3:\\n')\n",
    "print(x[x>3])"
   ]
  },
  {
   "cell_type": "markdown",
   "metadata": {},
   "source": [
    "### Masks"
   ]
  },
  {
   "cell_type": "code",
   "execution_count": 63,
   "metadata": {},
   "outputs": [
    {
     "name": "stdout",
     "output_type": "stream",
     "text": [
      "[False False False False False False  True  True  True  True]\n"
     ]
    }
   ],
   "source": [
    "arr = np.arange(10)\n",
    "mask = arr>5\n",
    "print(mask)"
   ]
  },
  {
   "cell_type": "code",
   "execution_count": 64,
   "metadata": {},
   "outputs": [
    {
     "name": "stdout",
     "output_type": "stream",
     "text": [
      "[6 7 8 9]\n"
     ]
    }
   ],
   "source": [
    "print(arr[mask])"
   ]
  },
  {
   "cell_type": "code",
   "execution_count": 65,
   "metadata": {},
   "outputs": [
    {
     "data": {
      "text/plain": [
       "True"
      ]
     },
     "execution_count": 65,
     "metadata": {},
     "output_type": "execute_result"
    }
   ],
   "source": [
    "# Functions any / all\n",
    "np.any( arr==9 )"
   ]
  },
  {
   "cell_type": "code",
   "execution_count": 66,
   "metadata": {},
   "outputs": [
    {
     "data": {
      "text/plain": [
       "True"
      ]
     },
     "execution_count": 66,
     "metadata": {},
     "output_type": "execute_result"
    }
   ],
   "source": [
    "np.all( arr>-1 )"
   ]
  },
  {
   "cell_type": "markdown",
   "metadata": {},
   "source": [
    "## Extra NumPy array methods"
   ]
  },
  {
   "cell_type": "code",
   "execution_count": 71,
   "metadata": {},
   "outputs": [],
   "source": [
    "# Reshape is used to change the shape\n",
    "a = np.arange(0, 15)"
   ]
  },
  {
   "cell_type": "code",
   "execution_count": 72,
   "metadata": {},
   "outputs": [
    {
     "name": "stdout",
     "output_type": "stream",
     "text": [
      "Original: [ 0  1  2  3  4  5  6  7  8  9 10 11 12 13 14]\n",
      "Reshaped:\n",
      "[[ 0  1  2  3  4]\n",
      " [ 5  6  7  8  9]\n",
      " [10 11 12 13 14]]\n"
     ]
    }
   ],
   "source": [
    "print('Original:',a)\n",
    "a = a.reshape(3, 5)\n",
    "# a = np.arange(0, 15).reshape(3, 5)  # same thing\n",
    "print ('Reshaped:')\n",
    "print(a)"
   ]
  },
  {
   "cell_type": "code",
   "execution_count": 73,
   "metadata": {},
   "outputs": [
    {
     "name": "stdout",
     "output_type": "stream",
     "text": [
      "Original:\n",
      " [[ 0  1  2  3  4  5]\n",
      " [ 6  7  8  9 10 11]\n",
      " [12 13 14 15 16 17]\n",
      " [18 19 20 21 22 23]]\n",
      "\n",
      "Flattened:\n",
      " [ 0  1  2  3  4  5  6  7  8  9 10 11 12 13 14 15 16 17 18 19 20 21 22 23]\n"
     ]
    }
   ],
   "source": [
    "# We can also flatten matrices using ravel()\n",
    "x = np.array(range(24))\n",
    "x = x.reshape(4,6)\n",
    "print('Original:\\n',x)\n",
    "print()\n",
    "x = x.ravel() # make it flat\n",
    "print ('Flattened:\\n',x)"
   ]
  },
  {
   "cell_type": "code",
   "execution_count": 74,
   "metadata": {},
   "outputs": [
    {
     "name": "stdout",
     "output_type": "stream",
     "text": [
      "[[ 0  1  2  3  4]\n",
      " [ 5  6  7  8  9]\n",
      " [10 11 12 13 14]]\n",
      "\n",
      "Sum: 105\n",
      "Min: 0\n",
      "Max: 14\n"
     ]
    }
   ],
   "source": [
    "# We can also easily find the sum, min, max, .. are easy\n",
    "print (a)\n",
    "print()\n",
    "print ('Sum:',a.sum())\n",
    "print('Min:', a.min())\n",
    "print('Max:', a.max())"
   ]
  },
  {
   "cell_type": "code",
   "execution_count": 75,
   "metadata": {},
   "outputs": [
    {
     "name": "stdout",
     "output_type": "stream",
     "text": [
      "Column sum: [15 18 21 24 27]\n",
      "Row sum: [10 35 60]\n"
     ]
    }
   ],
   "source": [
    "print ('Column sum:',a.sum(axis=0))\n",
    "print ('Row sum:',a.sum(axis=1))\n",
    "\n",
    "# Note here axis specifies what dimension to \"collapse\""
   ]
  },
  {
   "cell_type": "code",
   "execution_count": 76,
   "metadata": {},
   "outputs": [
    {
     "name": "stdout",
     "output_type": "stream",
     "text": [
      "[1 2 3 4 5 6 7 8 9]\n",
      "[     1      2      6     24    120    720   5040  40320 362880]\n"
     ]
    }
   ],
   "source": [
    "# To get the cumulative product:\n",
    "print (np.arange(1, 10))\n",
    "print (np.cumprod(np.arange(1, 10)))"
   ]
  },
  {
   "cell_type": "code",
   "execution_count": 77,
   "metadata": {},
   "outputs": [
    {
     "name": "stdout",
     "output_type": "stream",
     "text": [
      "[1 2 3 4 5 6 7 8 9]\n",
      "[ 1  3  6 10 15 21 28 36 45]\n"
     ]
    }
   ],
   "source": [
    "# To get the cumulative sum:\n",
    "print (np.arange(1, 10))\n",
    "print(np.cumsum((np.arange(1, 10))))"
   ]
  },
  {
   "cell_type": "code",
   "execution_count": 78,
   "metadata": {},
   "outputs": [
    {
     "name": "stdout",
     "output_type": "stream",
     "text": [
      "[[[ 0  1  2  3  4  5  6  7]\n",
      "  [ 8  9 10 11 12 13 14 15]\n",
      "  [16 17 18 19 20 21 22 23]\n",
      "  [24 25 26 27 28 29 30 31]\n",
      "  [32 33 34 35 36 37 38 39]\n",
      "  [40 41 42 43 44 45 46 47]]\n",
      "\n",
      " [[48 49 50 51 52 53 54 55]\n",
      "  [56 57 58 59 60 61 62 63]\n",
      "  [64 65 66 67 68 69 70 71]\n",
      "  [72 73 74 75 76 77 78 79]\n",
      "  [80 81 82 83 84 85 86 87]\n",
      "  [88 89 90 91 92 93 94 95]]]\n"
     ]
    }
   ],
   "source": [
    "# Creating a 3D array:\n",
    "a = np.arange(0, 96).reshape(2, 6, 8)\n",
    "print(a)"
   ]
  },
  {
   "cell_type": "code",
   "execution_count": 79,
   "metadata": {},
   "outputs": [
    {
     "name": "stdout",
     "output_type": "stream",
     "text": [
      "[[ 48  50  52  54  56  58  60  62]\n",
      " [ 64  66  68  70  72  74  76  78]\n",
      " [ 80  82  84  86  88  90  92  94]\n",
      " [ 96  98 100 102 104 106 108 110]\n",
      " [112 114 116 118 120 122 124 126]\n",
      " [128 130 132 134 136 138 140 142]]\n",
      "---\n",
      "[[120 126 132 138 144 150 156 162]\n",
      " [408 414 420 426 432 438 444 450]]\n"
     ]
    }
   ],
   "source": [
    "# The same methods typically apply in multiple dimensions\n",
    "print (a.sum(axis = 0))\n",
    "print ('---')\n",
    "print (a.sum(axis = 1))"
   ]
  },
  {
   "cell_type": "markdown",
   "metadata": {},
   "source": [
    "## Arrray Axis\n",
    "<img src= \"https://github.com/ikhlaqsidhu/data-x/raw/master/imgsource/anatomyarray.png\">\n",
    "\n"
   ]
  },
  {
   "cell_type": "markdown",
   "metadata": {},
   "source": [
    "---\n",
    "# More ufuncs and Basic Operations"
   ]
  },
  {
   "cell_type": "markdown",
   "metadata": {},
   "source": [
    "One of the coolest parts of NumPy is the ability for you to run mathematical operations on top of arrays. Here are some basic operations:"
   ]
  },
  {
   "cell_type": "code",
   "execution_count": 80,
   "metadata": {},
   "outputs": [
    {
     "name": "stdout",
     "output_type": "stream",
     "text": [
      "a =  [11 12 13 14 15 16 17 18 19 20]\n",
      "b =  [0 1 2 3 4 5 6 7 8 9]\n"
     ]
    }
   ],
   "source": [
    "a = np.arange(11, 21)\n",
    "b = np.arange(0, 10)\n",
    "print (\"a = \",a)\n",
    "print (\"b = \",b)"
   ]
  },
  {
   "cell_type": "code",
   "execution_count": 81,
   "metadata": {},
   "outputs": [
    {
     "name": "stdout",
     "output_type": "stream",
     "text": [
      "[11 13 15 17 19 21 23 25 27 29]\n",
      "[  0  12  26  42  60  80 102 126 152 180]\n",
      "[121 144 169 196 225 256 289 324 361 400]\n"
     ]
    }
   ],
   "source": [
    "print (a + b)\n",
    "print (a * b) # Hadamard product\n",
    "print (a ** 2)"
   ]
  },
  {
   "cell_type": "code",
   "execution_count": 82,
   "metadata": {},
   "outputs": [
    {
     "name": "stdout",
     "output_type": "stream",
     "text": [
      "You can even do things like matrix operations\n",
      "780\n"
     ]
    }
   ],
   "source": [
    "print ('You can even do things like matrix operations')\n",
    "print (a.dot(b))"
   ]
  },
  {
   "cell_type": "code",
   "execution_count": 83,
   "metadata": {},
   "outputs": [
    {
     "name": "stdout",
     "output_type": "stream",
     "text": [
      "Matrix multiplication\n",
      "c = \n",
      " [[1 2]\n",
      " [3 4]]\n",
      "\n",
      "d = \n",
      " [[5 6]\n",
      " [7 8]]\n",
      "\n",
      "[[23 34]\n",
      " [31 46]]\n"
     ]
    }
   ],
   "source": [
    "print ('Matrix multiplication')\n",
    "c = np.arange(1,5).reshape(2,2)\n",
    "print (\"c = \\n\", c)\n",
    "print()\n",
    "d = np.arange(5,9).reshape(2,2)\n",
    "print (\"d = \\n\", d)\n",
    "print()\n",
    "print (np.matmul(d,c))"
   ]
  },
  {
   "cell_type": "markdown",
   "metadata": {},
   "source": [
    "Question: Ax = b. Solve for x. Note, you should use numpy's pseudoinverse function while aligning A and b's dimensions. "
   ]
  },
  {
   "cell_type": "code",
   "execution_count": 125,
   "metadata": {},
   "outputs": [
    {
     "name": "stdout",
     "output_type": "stream",
     "text": [
      "[[1 2]\n",
      " [3 4]\n",
      " [5 6]]\n",
      "\n",
      "[[7]\n",
      " [8]\n",
      " [9]]\n",
      "\n",
      "[[-6. ]\n",
      " [ 6.5]]\n"
     ]
    }
   ],
   "source": [
    "A = np.array([[1, 2, 3, 4, 5, 6]]).reshape(3,2)\n",
    "b = np.array([7,8,9]).reshape(3,-1)\n",
    "print(A)\n",
    "print()\n",
    "print(b)\n",
    "\n",
    "# input answer\n",
    "x = np.linalg.pinv(A)@b  #use pinv when matrix is not square\n",
    "\n",
    "print()\n",
    "print(x)"
   ]
  },
  {
   "cell_type": "markdown",
   "metadata": {},
   "source": [
    "# Random numbers"
   ]
  },
  {
   "cell_type": "code",
   "execution_count": 85,
   "metadata": {},
   "outputs": [
    {
     "name": "stdout",
     "output_type": "stream",
     "text": [
      "[3.19525402 3.86075747 3.4110535  3.17953273 2.6946192  3.58357645\n",
      " 2.75034885 4.567092   4.85465104 2.53376608]\n"
     ]
    }
   ],
   "source": [
    "# Radom numbers\n",
    "np.random.seed(0)  # set the seed to zero for reproducibility\n",
    "print(np.random.uniform(1,5,10))   # 10 random uniform numbers 1 to 5"
   ]
  },
  {
   "cell_type": "code",
   "execution_count": 86,
   "metadata": {},
   "outputs": [
    {
     "name": "stdout",
     "output_type": "stream",
     "text": [
      "[1.56889614 0.75267411 0.83943285 2.59825415 0.07368535]\n",
      "[[0.0871293  0.0202184  0.83261985 0.77815675]\n",
      " [0.87001215 0.97861834 0.79915856 0.46147936]]\n"
     ]
    }
   ],
   "source": [
    "print (np.random.exponential(1,5)) # 5 random exp numbers with rate 1\n",
    "print (np.random.random(8).reshape(2,4)) #8 random 0-1, 2 x 4 array"
   ]
  },
  {
   "cell_type": "markdown",
   "metadata": {},
   "source": [
    "Question: Create a 10x10 matrix from a 100-dimensional vector with values drawn from the normal distribution of mean = 0, stdev = 1."
   ]
  },
  {
   "cell_type": "code",
   "execution_count": 127,
   "metadata": {},
   "outputs": [
    {
     "data": {
      "text/plain": [
       "array([[-0.49278966,  0.66712552,  0.24755098,  0.20517161,  2.04485423,\n",
       "         1.4290378 ,  0.84977564,  1.52457742,  0.90888557,  0.27394034],\n",
       "       [-0.14443764,  0.18394919,  0.12221771, -0.08041644, -0.05821721,\n",
       "        -0.69335535,  1.17904502, -0.09946143,  0.98339625,  0.52805384],\n",
       "       [ 0.02924462, -1.20780443,  0.76442871, -1.38715924,  1.19950814,\n",
       "         0.75134531, -1.51586948,  1.15669304,  0.04361659, -0.0632307 ],\n",
       "       [ 0.37834269, -0.66346122, -1.32005531,  0.39436949, -0.31382834,\n",
       "         1.19057051,  0.03886398,  0.74335002, -0.62968707,  1.17389442],\n",
       "       [-0.66395542,  0.99233408, -0.36045919,  0.22676439,  0.25321071,\n",
       "         0.62416766, -0.0737251 ,  0.31768098, -0.54902024,  0.15801192],\n",
       "       [-2.01516733, -0.75309084,  0.2150346 , -0.31905259, -0.52742345,\n",
       "         0.59458643,  1.53785546,  1.82337205,  0.4937089 ,  0.55832257],\n",
       "       [-0.20555533, -0.15081463, -1.25332627, -1.49977471, -1.93649873,\n",
       "        -0.84737272, -0.38288704, -0.77668878, -0.47845585, -0.64795575],\n",
       "       [ 0.01576334, -0.06743982, -0.71507863, -0.43799495,  1.1169384 ,\n",
       "        -0.96250786,  0.47884065, -0.81439978, -0.34409713,  0.33578824],\n",
       "       [ 0.33973996,  1.56863535, -0.25677184,  0.22537087, -0.93598477,\n",
       "        -1.09089347,  2.07748271,  0.41745692,  1.62313628, -0.62187606],\n",
       "       [ 0.11864623,  1.02727473, -2.34276483,  0.97004475,  0.03443462,\n",
       "         1.12993823,  1.81140504, -0.4980779 ,  2.47847748,  0.01943243]])"
      ]
     },
     "execution_count": 127,
     "metadata": {},
     "output_type": "execute_result"
    }
   ],
   "source": [
    "np.random.normal(0,1,(10, 10))"
   ]
  },
  {
   "cell_type": "markdown",
   "metadata": {},
   "source": [
    "# Trignometric functions"
   ]
  },
  {
   "cell_type": "code",
   "execution_count": 162,
   "metadata": {},
   "outputs": [
    {
     "name": "stdout",
     "output_type": "stream",
     "text": [
      "[ 0.   2.5  5.   7.5 10. ]\n"
     ]
    }
   ],
   "source": [
    "# linspace: Create an array of numbers from a to b \n",
    "# with n equally spaced numbers (inclusive)\n",
    "\n",
    "data = np.linspace(0,10,5)\n",
    "print (data)"
   ]
  },
  {
   "cell_type": "code",
   "execution_count": 163,
   "metadata": {},
   "outputs": [
    {
     "name": "stdout",
     "output_type": "stream",
     "text": [
      "x =  [0.         1.57079633 3.14159265]\n",
      "\n",
      "sin(x) =  [0.0000000e+00 1.0000000e+00 1.2246468e-16]\n"
     ]
    }
   ],
   "source": [
    "x = np.linspace(0,np.pi, 3)\n",
    "print('x = ', x)\n",
    "print()\n",
    "print (\"sin(x) = \", np.sin(x))"
   ]
  },
  {
   "cell_type": "code",
   "execution_count": 164,
   "metadata": {},
   "outputs": [],
   "source": [
    "x = np.linspace(0,4*np.pi,1000)\n",
    "y = np.sin(x)-np.cos(x)**2"
   ]
  },
  {
   "cell_type": "code",
   "execution_count": 165,
   "metadata": {},
   "outputs": [
    {
     "data": {
      "text/plain": [
       "[<matplotlib.lines.Line2D at 0x7f8f14603080>]"
      ]
     },
     "execution_count": 165,
     "metadata": {},
     "output_type": "execute_result"
    },
    {
     "data": {
      "image/png": "[encoded data removed]",
      "text/plain": [
       "<Figure size 432x288 with 1 Axes>"
      ]
     },
     "metadata": {},
     "output_type": "display_data"
    }
   ],
   "source": [
    "import matplotlib.pyplot as plt\n",
    "%matplotlib inline\n",
    "\n",
    "plt.plot(x,y)"
   ]
  },
  {
   "cell_type": "markdown",
   "metadata": {},
   "source": [
    "# Prediction Example (Ordinary Least Square)"
   ]
  },
  {
   "cell_type": "code",
   "execution_count": 166,
   "metadata": {},
   "outputs": [],
   "source": [
    "# Generate data w linear trend\n",
    "x = np.linspace(0,10,50)\n",
    "Y = 5 + x*2 + np.random.normal(0,2.5,len(x))"
   ]
  },
  {
   "cell_type": "code",
   "execution_count": 167,
   "metadata": {},
   "outputs": [
    {
     "data": {
      "image/png": "[encoded data removed]",
      "text/plain": [
       "<Figure size 432x288 with 1 Axes>"
      ]
     },
     "metadata": {},
     "output_type": "display_data"
    }
   ],
   "source": [
    "plt.scatter(x,Y);"
   ]
  },
  {
   "cell_type": "code",
   "execution_count": 168,
   "metadata": {},
   "outputs": [],
   "source": [
    "X = np.column_stack([np.ones(len(x)),x])"
   ]
  },
  {
   "cell_type": "code",
   "execution_count": 169,
   "metadata": {},
   "outputs": [
    {
     "data": {
      "text/plain": [
       "array([[1.        , 0.        ],\n",
       "       [1.        , 0.20408163],\n",
       "       [1.        , 0.40816327],\n",
       "       [1.        , 0.6122449 ]])"
      ]
     },
     "execution_count": 169,
     "metadata": {},
     "output_type": "execute_result"
    }
   ],
   "source": [
    "X[:4,:]"
   ]
  },
  {
   "cell_type": "markdown",
   "metadata": {},
   "source": [
    "Remeber:\n",
    "$Y \\in R^{50x1}, X \\in R^{50x2}, W \\in R^{2x1}$\n",
    "$$\\hat{Y} = XW$$\n",
    "$$ SE = (Y-XW)^2$$\n",
    "$$ \\nabla_W SE = 2X^T(Y-XW) = 0$$\n",
    "$$W_{ols} = (X^TX)^{-1}X^TY$$"
   ]
  },
  {
   "cell_type": "code",
   "execution_count": null,
   "metadata": {},
   "outputs": [],
   "source": [
    "W = np.linalg.inv(X.T.dot(X)).dot(X.T).dot(Y)"
   ]
  },
  {
   "cell_type": "code",
   "execution_count": null,
   "metadata": {},
   "outputs": [],
   "source": [
    "W"
   ]
  },
  {
   "cell_type": "code",
   "execution_count": null,
   "metadata": {},
   "outputs": [],
   "source": [
    "plt.scatter(x,Y);\n",
    "plt.plot(x,W[0]+W[1]*x,c='red');"
   ]
  },
  {
   "cell_type": "code",
   "execution_count": null,
   "metadata": {},
   "outputs": [],
   "source": []
  },
  {
   "cell_type": "code",
   "execution_count": null,
   "metadata": {},
   "outputs": [],
   "source": []
  },
  {
   "cell_type": "markdown",
   "metadata": {},
   "source": [
    "# Attendance Exercises"
   ]
  },
  {
   "cell_type": "markdown",
   "metadata": {},
   "source": [
    "## Question 1: \n",
    "### Given 2 matrices C & D:"
   ]
  },
  {
   "cell_type": "code",
   "execution_count": 22,
   "metadata": {},
   "outputs": [],
   "source": [
    "C = np.array([1, 5, 7, 8, 9, 11])\n",
    "D = np.array([30, 60, 80, 19, 6, 4]).reshape(3, 2)"
   ]
  },
  {
   "cell_type": "markdown",
   "metadata": {},
   "source": [
    "### Square each entry of C, then reshape C to be a 2x3 matrix. Multiply the new C & D: what is the sum of the elements in the last column of the product? Submit on bCourses"
   ]
  },
  {
   "cell_type": "code",
   "execution_count": 32,
   "metadata": {},
   "outputs": [
    {
     "name": "stdout",
     "output_type": "stream",
     "text": [
      "[[2324  731]\n",
      " [9126 5863]]\n",
      "Answer:  6594\n"
     ]
    }
   ],
   "source": [
    "product = (C*C).reshape(2,3)@D\n",
    "print(product)\n",
    "\n",
    "print(\"Answer: \", product.sum(axis = 0)[1])\n"
   ]
  },
  {
   "cell_type": "markdown",
   "metadata": {},
   "source": [
    "See bCourses for questions 2 & 3\n",
    "\n",
    "## Question 4:\n",
    "### Given 2 numpy arrays, E & F:"
   ]
  },
  {
   "cell_type": "code",
   "execution_count": 34,
   "metadata": {},
   "outputs": [
    {
     "name": "stdout",
     "output_type": "stream",
     "text": [
      "E: \n",
      " [ 0.18759    -3.06735841 -6.01524185 -6.00493059  4.97719169  2.55905319\n",
      "  8.64114082 -1.5799068   2.73134519 -0.62920848 -0.52124254  7.08174751\n",
      " -0.91394513  8.56333601  2.41014514 -8.29151414 -8.64034168  9.64628425\n",
      " -2.01281228  1.74917664 -1.36827861 -6.82207123 -7.48896594 -5.74607695\n",
      "  2.10675622  0.93067175 -3.42823135 -9.11651521 -3.519439   -2.03393353\n",
      "  5.12847566  4.74967979 -5.57183807 -5.44652096  2.55765655  3.03552695\n",
      "  1.22205552 -7.76057239 -4.28559703 -9.36593577]\n",
      "\n",
      "\n",
      "F: \n",
      " [ 2.30753712 -0.94741128 -3.89529472 -3.88498346  7.09713882  4.67900032\n",
      " 10.76108795  0.54004032  4.85129231  1.49073864  1.59870458  9.20169464\n",
      "  1.206002   10.68328314  4.53009227 -6.17156701 -6.52039455 11.76623137\n",
      "  0.10713485  3.86912376  0.75166852 -4.7021241  -5.36901881 -3.62612982\n",
      "  4.22670335  3.05061887 -1.30828423 -6.99656808 -1.39949187  0.0860136\n",
      "  7.24842278  6.86962692 -3.45189094 -3.32657383  4.67760367  5.15547407\n",
      "  3.34200265 -5.64062527 -2.16564991 -7.24598865]\n"
     ]
    }
   ],
   "source": [
    "# DO NOT change this code\n",
    "import pandas as pd\n",
    "storage = pd.read_csv('storage.csv')\n",
    "E = storage['a'].values\n",
    "F = storage['b'].values\n",
    "\n",
    "print('E: \\n', E)\n",
    "print('\\n')\n",
    "print('F: \\n', F)"
   ]
  },
  {
   "cell_type": "markdown",
   "metadata": {},
   "source": [
    "### What is the covariance of E & F? See lecture for how to calculate: https://github.com/ikhlaqsidhu/data-x/blob/master/02-theory-linear-regression/prediction-linear-regression.pdf\n",
    "#### Round to the nearest decimal point (ex: 5.41 -> 5.4)\n",
    "*Submit your answer on bCourses*"
   ]
  },
  {
   "cell_type": "code",
   "execution_count": 41,
   "metadata": {},
   "outputs": [
    {
     "name": "stdout",
     "output_type": "stream",
     "text": [
      "26.91455593357215\n",
      "Answer:  26.9\n"
     ]
    }
   ],
   "source": [
    "Ex_E = np.mean(E)\n",
    "Ex_F = np.mean(F)\n",
    "\n",
    "cov_EF = np.mean(E*F) - (Ex_E*Ex_F)\n",
    "print(cov_EF)\n",
    "\n",
    "print(\"Answer: \", round(cov_EF,1))\n",
    "\n"
   ]
  }
 ],
 "metadata": {
  "anaconda-cloud": {},
  "kernelspec": {
   "display_name": "Python 3",
   "language": "python",
   "name": "python3"
  },
  "language_info": {
   "codemirror_mode": {
    "name": "ipython",
    "version": 3
   },
   "file_extension": ".py",
   "mimetype": "text/x-python",
   "name": "python",
   "nbconvert_exporter": "python",
   "pygments_lexer": "ipython3",
   "version": "3.7.0"
  }
 },
 "nbformat": 4,
 "nbformat_minor": 1
}
